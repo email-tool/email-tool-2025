{
 "cells": [
  {
   "cell_type": "code",
   "execution_count": 4,
   "metadata": {},
   "outputs": [],
   "source": [
    "import os\n",
    "\n",
    "# Define the base directory (change this to your target directory)\n",
    "base_directory = r\"E:\"  # Replace with your actual path\n",
    "# List to store file paths\n",
    "file_list = []\n",
    "\n",
    "# Walk through all directories and subdirectories\n",
    "for root, _, files in os.walk(base_directory):\n",
    "    for file in files:\n",
    "        if file.endswith(\".csv\") or file.endswith(\".xlsx\") or file.endswith(\".xls\"):\n",
    "            file_list.append((root, file))\n",
    "\n",
    "# Total file count\n",
    "total_files = len(file_list)\n",
    "\n",
    "\n"
   ]
  },
  {
   "cell_type": "code",
   "execution_count": 5,
   "metadata": {},
   "outputs": [
    {
     "name": "stdout",
     "output_type": "stream",
     "text": [
      "Folders in base directory: ['.git', 'database_training', 'email_creation', 'email_verifier', 'files', 'helper', 'old_database_files', 'static', 'templates', 'uploads']\n"
     ]
    }
   ],
   "source": [
    "import os\n",
    "\n",
    "base_directory = base_directory\n",
    "\n",
    "# List only directories (folders) in the base directory\n",
    "folders = [f for f in os.listdir(base_directory) if os.path.isdir(os.path.join(base_directory, f))]\n",
    "\n",
    "# Print all folders\n",
    "print(\"Folders in base directory:\", folders)\n"
   ]
  },
  {
   "cell_type": "code",
   "execution_count": null,
   "metadata": {},
   "outputs": [],
   "source": [
    "\n",
    "# Print file names with remaining count\n",
    "for index, (folder, filename) in enumerate(file_list, start=1):\n",
    "    remaining_files = total_files - index\n",
    "    print(f\"File {index}/{total_files}: {filename} (Remaining: {remaining_files}) in {folder}\")\n",
    "\n",
    "print(f\"\\nTotal CSV/Excel files found: {total_files}\")"
   ]
  },
  {
   "cell_type": "code",
   "execution_count": 7,
   "metadata": {},
   "outputs": [],
   "source": [
    "# !pip install pandas÷"
   ]
  },
  {
   "cell_type": "code",
   "execution_count": 1,
   "metadata": {},
   "outputs": [],
   "source": [
    "from database_training.database_process_mutifile import process_files_and_save_output\n",
    "from database_training.merger_for_pckl import update_pkl_with_csv\n",
    "import pandas as pd\n",
    "from database_training.update_db_manually import update_pickle\n",
    "from email_creation.create_emails import email_creator_app\n",
    "from database_training.database_process_single_file import process_single_file\n"
   ]
  },
  {
   "cell_type": "code",
   "execution_count": null,
   "metadata": {},
   "outputs": [],
   "source": [
    "        files = request.files.getlist('folder')  # Get all files in the folder\n",
    "        filenames = [file.filename for file in files if file.filename != '']\n",
    "        for i in filenames:\n",
    "            print (\"filenames \",i)\n",
    "            try:\n",
    "                if i.endswith('.csv') or i.endswith('.xlsx'):\n",
    "                    file_path = f\"{base_path}//{i}\"\n",
    "\n",
    "                    process_single_file(file_path, Output_files_path)\n",
    "\n",
    "            except Exception as e:\n",
    "                log_message = f\"Error processing file: {str(e)}\"\n",
    "        update_pkl_with_csv(Output_files_path, db_pickle_file_path)"
   ]
  }
 ],
 "metadata": {
  "kernelspec": {
   "display_name": "Python 3",
   "language": "python",
   "name": "python3"
  },
  "language_info": {
   "codemirror_mode": {
    "name": "ipython",
    "version": 3
   },
   "file_extension": ".py",
   "mimetype": "text/x-python",
   "name": "python",
   "nbconvert_exporter": "python",
   "pygments_lexer": "ipython3",
   "version": "3.12.9"
  }
 },
 "nbformat": 4,
 "nbformat_minor": 2
}
