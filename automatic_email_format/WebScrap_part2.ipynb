{
 "cells": [
  {
   "cell_type": "markdown",
   "metadata": {},
   "source": [
    "top 5 companies \n",
    "old data\n",
    "5000\n",
    "3000 "
   ]
  },
  {
   "cell_type": "code",
   "execution_count": 3,
   "metadata": {},
   "outputs": [],
   "source": [
    "from web_email_scrapper import batch_scrapper, batch_scrapper2, batch_scrapper_3 ,get_clean_data, get_csv_formatted,get_company_email_format\n",
    "import pandas as pd\n",
    "from web_email_scrapper_multiEngine_test import distribute_queries_across_engines, fetch_bing_results, fetch_duckduckgo_results, fetch_yahoo_results"
   ]
  },
  {
   "cell_type": "code",
   "execution_count": null,
   "metadata": {},
   "outputs": [],
   "source": []
  },
  {
   "cell_type": "code",
   "execution_count": 7,
   "metadata": {},
   "outputs": [],
   "source": [
    "# Specify the file name\n",
    "file_name = r\"/Users/sumanverma/Documents/Work/Email_tool/email_creator_app/files/database_output_files/companies_list.txt\"\n",
    "# Read the text file into a list\n",
    "with open(file_name, \"r\") as file:\n",
    "    lines = file.readlines()"
   ]
  },
  {
   "cell_type": "code",
   "execution_count": 8,
   "metadata": {},
   "outputs": [
    {
     "name": "stdout",
     "output_type": "stream",
     "text": [
      "7\n"
     ]
    }
   ],
   "source": [
    "# Remove newline characters from each line\n",
    "lines = [line.strip() for line in lines]\n",
    "lines = lines[2000:2007]\n",
    "print (len(lines))"
   ]
  },
  {
   "cell_type": "code",
   "execution_count": 9,
   "metadata": {},
   "outputs": [
    {
     "data": {
      "text/plain": [
       "7"
      ]
     },
     "execution_count": 9,
     "metadata": {},
     "output_type": "execute_result"
    }
   ],
   "source": [
    "queries = []\n",
    "for i in lines:\n",
    "  \n",
    "    queries.append(f\"email format for {i}\")\n",
    "len(queries)"
   ]
  },
  {
   "cell_type": "code",
   "execution_count": 5,
   "metadata": {},
   "outputs": [
    {
     "ename": "NameError",
     "evalue": "name 'queries' is not defined",
     "output_type": "error",
     "traceback": [
      "\u001b[0;31m---------------------------------------------------------------------------\u001b[0m",
      "\u001b[0;31mNameError\u001b[0m                                 Traceback (most recent call last)",
      "Cell \u001b[0;32mIn[5], line 7\u001b[0m\n\u001b[1;32m      4\u001b[0m batch_size \u001b[38;5;241m=\u001b[39m \u001b[38;5;241m100\u001b[39m \u001b[38;5;66;03m# Number of queries per batch\u001b[39;00m\n\u001b[1;32m      6\u001b[0m \u001b[38;5;66;03m# Distribute queries across engines\u001b[39;00m\n\u001b[0;32m----> 7\u001b[0m results \u001b[38;5;241m=\u001b[39m distribute_queries_across_engines(\u001b[43mqueries\u001b[49m, batch_size)\n",
      "\u001b[0;31mNameError\u001b[0m: name 'queries' is not defined"
     ]
    }
   ],
   "source": [
    "# Example usage\n",
    "#157minutes 110 batch 10 rows\n",
    "if __name__ == \"__main__\":\n",
    "    batch_size = 100 # Number of queries per batch\n",
    "    \n",
    "    # Distribute queries across engines\n",
    "    results = distribute_queries_across_engines(queries, batch_size)"
   ]
  },
  {
   "cell_type": "code",
   "execution_count": 6,
   "metadata": {},
   "outputs": [
    {
     "ename": "NameError",
     "evalue": "name 'results' is not defined",
     "output_type": "error",
     "traceback": [
      "\u001b[0;31m---------------------------------------------------------------------------\u001b[0m",
      "\u001b[0;31mNameError\u001b[0m                                 Traceback (most recent call last)",
      "Cell \u001b[0;32mIn[6], line 7\u001b[0m\n\u001b[1;32m      4\u001b[0m flattened_data \u001b[38;5;241m=\u001b[39m []\n\u001b[1;32m      6\u001b[0m \u001b[38;5;66;03m# Loop through each dictionary in the list\u001b[39;00m\n\u001b[0;32m----> 7\u001b[0m \u001b[38;5;28;01mfor\u001b[39;00m item \u001b[38;5;129;01min\u001b[39;00m \u001b[43mresults\u001b[49m:\n\u001b[1;32m      8\u001b[0m     query \u001b[38;5;241m=\u001b[39m item[\u001b[38;5;124m'\u001b[39m\u001b[38;5;124mquery\u001b[39m\u001b[38;5;124m'\u001b[39m]\n\u001b[1;32m      9\u001b[0m     results \u001b[38;5;241m=\u001b[39m item[\u001b[38;5;124m'\u001b[39m\u001b[38;5;124mresults\u001b[39m\u001b[38;5;124m'\u001b[39m]\n",
      "\u001b[0;31mNameError\u001b[0m: name 'results' is not defined"
     ]
    }
   ],
   "source": [
    "import pandas as pd\n",
    "\n",
    "# Initialize an empty list to store the flattened data\n",
    "flattened_data = []\n",
    "\n",
    "# Loop through each dictionary in the list\n",
    "for item in results:\n",
    "    query = item['query']\n",
    "    results = item['results']\n",
    "    \n",
    "    # Loop through each result in the results list\n",
    "    for result in results:\n",
    "        flattened_data.append({\n",
    "            'query': query,\n",
    "            'engine': result['engine'],\n",
    "            'title': result['title'],\n",
    "            'link': result['link'],\n",
    "            'snippet': result['snippet']\n",
    "        })\n",
    "\n",
    "# Convert the flattened data into a DataFrame\n",
    "df = pd.DataFrame(flattened_data)\n",
    "\n",
    "# Display the DataFrame\n",
    "print(df)"
   ]
  },
  {
   "cell_type": "code",
   "execution_count": 12,
   "metadata": {},
   "outputs": [
    {
     "ename": "KeyError",
     "evalue": "'engine'",
     "output_type": "error",
     "traceback": [
      "\u001b[0;31m---------------------------------------------------------------------------\u001b[0m",
      "\u001b[0;31mKeyError\u001b[0m                                  Traceback (most recent call last)",
      "Cell \u001b[0;32mIn[12], line 6\u001b[0m\n\u001b[1;32m      4\u001b[0m \u001b[38;5;28;01mfor\u001b[39;00m data \u001b[38;5;129;01min\u001b[39;00m results:\n\u001b[1;32m      5\u001b[0m     query \u001b[38;5;241m=\u001b[39m data[\u001b[38;5;124m'\u001b[39m\u001b[38;5;124mquery\u001b[39m\u001b[38;5;124m'\u001b[39m]\n\u001b[0;32m----> 6\u001b[0m     engine \u001b[38;5;241m=\u001b[39m \u001b[43mdata\u001b[49m\u001b[43m[\u001b[49m\u001b[38;5;124;43m'\u001b[39;49m\u001b[38;5;124;43mengine\u001b[39;49m\u001b[38;5;124;43m'\u001b[39;49m\u001b[43m]\u001b[49m\n\u001b[1;32m      8\u001b[0m     \u001b[38;5;66;03m# Iterate over the results of each dictionary\u001b[39;00m\n\u001b[1;32m      9\u001b[0m     \u001b[38;5;28;01mfor\u001b[39;00m result \u001b[38;5;129;01min\u001b[39;00m data[\u001b[38;5;124m'\u001b[39m\u001b[38;5;124mresults\u001b[39m\u001b[38;5;124m'\u001b[39m]:\n",
      "\u001b[0;31mKeyError\u001b[0m: 'engine'"
     ]
    }
   ],
   "source": [
    "# Prepare an empty list to store the data\n",
    "df_data = []\n",
    "# Iterate over the list of dictionaries\n",
    "for data in results:\n",
    "    query = data['query']\n",
    "    engine = data['engine']\n",
    "    \n",
    "    # Iterate over the results of each dictionary\n",
    "    for result in data['results']:\n",
    "        df_data.append({\n",
    "            'query': query,\n",
    "            'engine': engine,\n",
    "            'link': result['link'],\n",
    "            'title': result['title'],\n",
    "            'snippet': result['snippet']\n",
    "        })\n",
    "\n",
    "# Convert the list of dictionaries to DataFrame\n",
    "df = pd.DataFrame(df_data)\n",
    "print (df.shape)\n",
    "# Display the DataFrame\n"
   ]
  },
  {
   "cell_type": "code",
   "execution_count": 87,
   "metadata": {},
   "outputs": [],
   "source": [
    "# Convert the list of dictionaries to a DataFrame\n",
    "df = df\n",
    "\n",
    "# Print the DataFrame\n",
    "df.to_csv(\"multiengine.csv\")\n"
   ]
  },
  {
   "cell_type": "code",
   "execution_count": 91,
   "metadata": {},
   "outputs": [
    {
     "data": {
      "text/html": [
       "<div>\n",
       "<style scoped>\n",
       "    .dataframe tbody tr th:only-of-type {\n",
       "        vertical-align: middle;\n",
       "    }\n",
       "\n",
       "    .dataframe tbody tr th {\n",
       "        vertical-align: top;\n",
       "    }\n",
       "\n",
       "    .dataframe thead th {\n",
       "        text-align: right;\n",
       "    }\n",
       "</style>\n",
       "<table border=\"1\" class=\"dataframe\">\n",
       "  <thead>\n",
       "    <tr style=\"text-align: right;\">\n",
       "      <th></th>\n",
       "      <th>query</th>\n",
       "      <th>engine</th>\n",
       "      <th>link</th>\n",
       "      <th>title</th>\n",
       "      <th>snippet</th>\n",
       "    </tr>\n",
       "  </thead>\n",
       "  <tbody>\n",
       "    <tr>\n",
       "      <th>22</th>\n",
       "      <td>email format for 24-7 intouch</td>\n",
       "      <td>DuckDuckGo</td>\n",
       "      <td>https://www.signalhire.com/companies/24-7-into...</td>\n",
       "      <td>24-7 Intouch Email Format | Intouchcx.com Emai...</td>\n",
       "      <td>24-7 Intouch Email Formats Contact top employe...</td>\n",
       "    </tr>\n",
       "    <tr>\n",
       "      <th>23</th>\n",
       "      <td>email format for 24-7 intouch</td>\n",
       "      <td>DuckDuckGo</td>\n",
       "      <td>https://contactout.com/company/IntouchCX-email...</td>\n",
       "      <td>IntouchCX Email Format - ContactOut</td>\n",
       "      <td>Explore IntouchCX staff directory for direct a...</td>\n",
       "    </tr>\n",
       "    <tr>\n",
       "      <th>24</th>\n",
       "      <td>email format for 24-7 intouch</td>\n",
       "      <td>DuckDuckGo</td>\n",
       "      <td>https://contactout.com/company/247-Intouch-ema...</td>\n",
       "      <td>24-7 Intouch Email Format - ContactOut</td>\n",
       "      <td>Explore 24-7 Intouch staff directory for direc...</td>\n",
       "    </tr>\n",
       "    <tr>\n",
       "      <th>25</th>\n",
       "      <td>email format for 314e corporation</td>\n",
       "      <td>DuckDuckGo</td>\n",
       "      <td>https://rocketreach.co/314e-corporation-email-...</td>\n",
       "      <td>314e Corporation Email Format - RocketReach</td>\n",
       "      <td>314e Corporation Email Format Get Verified Ema...</td>\n",
       "    </tr>\n",
       "    <tr>\n",
       "      <th>26</th>\n",
       "      <td>email format for 314e corporation</td>\n",
       "      <td>DuckDuckGo</td>\n",
       "      <td>https://leadiq.com/c/314e-corporation/5a1d9a88...</td>\n",
       "      <td>314e Corporation Email Formats &amp; Email Address...</td>\n",
       "      <td>What is 314e Corporation 's email address form...</td>\n",
       "    </tr>\n",
       "    <tr>\n",
       "      <th>27</th>\n",
       "      <td>email format for 314e corporation</td>\n",
       "      <td>DuckDuckGo</td>\n",
       "      <td>https://contactout.com/company/314e-corporatio...</td>\n",
       "      <td>314e Corporation Email Format &amp; Employee Direc...</td>\n",
       "      <td>Get details for 314e Corporation’s 30 employee...</td>\n",
       "    </tr>\n",
       "    <tr>\n",
       "      <th>28</th>\n",
       "      <td>email format for 314e corporation</td>\n",
       "      <td>DuckDuckGo</td>\n",
       "      <td>https://www.neverbounce.com/company/314e/30854...</td>\n",
       "      <td>314e - Email Format &amp; Email Checker Service | ...</td>\n",
       "      <td>The most accurate and popular 314e's email for...</td>\n",
       "    </tr>\n",
       "    <tr>\n",
       "      <th>29</th>\n",
       "      <td>email format for 314e corporation</td>\n",
       "      <td>DuckDuckGo</td>\n",
       "      <td>https://rocketreach.co/314e-corporation-profil...</td>\n",
       "      <td>314e Corporation: Contact Details and Business...</td>\n",
       "      <td>Email Format Management Technology Stack Compe...</td>\n",
       "    </tr>\n",
       "  </tbody>\n",
       "</table>\n",
       "</div>"
      ],
      "text/plain": [
       "                                query      engine  \\\n",
       "22      email format for 24-7 intouch  DuckDuckGo   \n",
       "23      email format for 24-7 intouch  DuckDuckGo   \n",
       "24      email format for 24-7 intouch  DuckDuckGo   \n",
       "25  email format for 314e corporation  DuckDuckGo   \n",
       "26  email format for 314e corporation  DuckDuckGo   \n",
       "27  email format for 314e corporation  DuckDuckGo   \n",
       "28  email format for 314e corporation  DuckDuckGo   \n",
       "29  email format for 314e corporation  DuckDuckGo   \n",
       "\n",
       "                                                 link  \\\n",
       "22  https://www.signalhire.com/companies/24-7-into...   \n",
       "23  https://contactout.com/company/IntouchCX-email...   \n",
       "24  https://contactout.com/company/247-Intouch-ema...   \n",
       "25  https://rocketreach.co/314e-corporation-email-...   \n",
       "26  https://leadiq.com/c/314e-corporation/5a1d9a88...   \n",
       "27  https://contactout.com/company/314e-corporatio...   \n",
       "28  https://www.neverbounce.com/company/314e/30854...   \n",
       "29  https://rocketreach.co/314e-corporation-profil...   \n",
       "\n",
       "                                                title  \\\n",
       "22  24-7 Intouch Email Format | Intouchcx.com Emai...   \n",
       "23                IntouchCX Email Format - ContactOut   \n",
       "24             24-7 Intouch Email Format - ContactOut   \n",
       "25        314e Corporation Email Format - RocketReach   \n",
       "26  314e Corporation Email Formats & Email Address...   \n",
       "27  314e Corporation Email Format & Employee Direc...   \n",
       "28  314e - Email Format & Email Checker Service | ...   \n",
       "29  314e Corporation: Contact Details and Business...   \n",
       "\n",
       "                                              snippet  \n",
       "22  24-7 Intouch Email Formats Contact top employe...  \n",
       "23  Explore IntouchCX staff directory for direct a...  \n",
       "24  Explore 24-7 Intouch staff directory for direc...  \n",
       "25  314e Corporation Email Format Get Verified Ema...  \n",
       "26  What is 314e Corporation 's email address form...  \n",
       "27  Get details for 314e Corporation’s 30 employee...  \n",
       "28  The most accurate and popular 314e's email for...  \n",
       "29  Email Format Management Technology Stack Compe...  "
      ]
     },
     "execution_count": 91,
     "metadata": {},
     "output_type": "execute_result"
    }
   ],
   "source": [
    "df[22:]"
   ]
  },
  {
   "cell_type": "code",
   "execution_count": 100,
   "metadata": {},
   "outputs": [
    {
     "data": {
      "text/plain": [
       "[{'title': 'amazon e mail at Amazon - Easy Refunds. Go Cashless. - amazon.in',\n",
       "  'link': 'https://www.bing.com/aclick?ld=e8ehKY1Wg73obOJIsPCgiCHDVUCUzg4e4bUcCwoIl_T1LP5D_9LnQagWw4c1iSOSrk6Tx_PLbVVs0Ebt3ArpwHnqcZaYgs5xgRbhETAP3oakC4XHde8T7bW-j3OBm2ftz2f6_CazLznceom5XwXj3GmdUEVJSVmwFCh84t_Ouxzl-XCugptor6k8SOO8TCptgiVB3NsQ&u=aHR0cHMlM2ElMmYlMmZ3d3cuYW1hem9uLmluJTJmcyUyZiUzZmllJTNkVVRGOCUyNmtleXdvcmRzJTNkYW1hem9uJTJiZSUyYm1haWwlMjZpbmRleCUzZGFwcyUyNnRhZyUzZG1zbmRlc2tzdGRpbi0yMSUyNnJlZiUzZHBkX3NsXzdqbmI2dXhuZXFfcCUyNmFkZ3JwaWQlM2QxMzIwNTE1MDcxNjI2NzU5JTI2aHZhZGlkJTNkODI1MzI0NTEwMTE2MTglMjZodm5ldHclM2RzJTI2aHZxbXQlM2RwJTI2aHZibXQlM2RicCUyNmh2ZGV2JTNkYyUyNmh2bG9jaW50JTNkJTI2aHZsb2NwaHklM2QxNTgzNDklMjZodnRhcmdpZCUzZGt3ZC04MjUzMzA2ODM4NjM2NCUzYWxvYy05MCUyNmh5ZGFkY3IlM2QxNDU1Ml8xOTQ4MDY1JTI2bWNpZCUzZCUyNm1zY2xraWQlM2RiY2NiMzI1Mjc4MjYxZGFjMGFjYzU1ZGYzOWYzZGY1Nw&rlid=bccb325278261dac0acc55df39f3df57',\n",
       "  'snippet': 'Shop for Amazon.in Gift Cards for Birthdays, Weddings & More. Go Cashless!'},\n",
       " {'title': 'Amazon Email Format | amazon.com Emails - RocketReach',\n",
       "  'link': 'https://rocketreach.co/amazon-email-format_b5c61fe0f42e0c48',\n",
       "  'snippet': 'The most common Amazon email format is [last][first_initial] (ex. doej@amazon.com), which is being used by 34.4% of Amazon work email addresses. Other common Amazon email patterns are [first][last_initial] (ex. janed@amazon.com) and [first_initial][last] (ex. jdoe@amazon.com). In all, Amazon uses 8 work email formats. ...'},\n",
       " {'title': 'Amazon Email verification & Email checker | NeverBounce',\n",
       "  'link': 'https://www.neverbounce.com/company/amazon/1475361',\n",
       "  'snippet': \"Amazon Email Format. The most accurate and popular Amazon's email format is first [1 letter] + last (ex. JSmith@amazon.com). Amazon also uses last + first [1 letter] (ex. SmithJ@amazon.com) and first + last [1 letter] (ex. JohnS@amazon.com) as email structures. Amazon's uses up to 10 different email patterns. Get validated email addresses of your leads, for free! Start for Free. Email structures Percentage; first [1 letter] + last JSmith@amazon.com\"},\n",
       " {'title': 'Amazon Web Services (AWS) Email Format - RocketReach',\n",
       "  'link': 'https://rocketreach.co/amazon-web-services-aws-email-format_b5e245ecf42e628b',\n",
       "  'snippet': 'The most common Amazon Web Services (AWS) email format is [last][first_initial] (ex. doej@amazon.com), which is being used by 46.4% of Amazon Web Services (AWS) work email addresses. Other common Amazon Web Services (AWS) email patterns are [first][last_initial] (ex. janed@amazon.com) and [first_initial][last] (ex. jdoe@amazon.com). In all, Amazon Web Services (AWS) uses 6 work email formats. ...'},\n",
       " {'title': 'Amazon Email Formats & Email Address Examples | LeadIQ',\n",
       "  'link': 'https://leadiq.com/c/amazon/5a1d8aa4240000240064842a/email-format',\n",
       "  'snippet': \"What is Amazon 's email address format? Amazon 's email format typically follows the pattern of FLast@amazon.com; this email format is used 45% of the time. Other contacts within LeadIQ's database had email formats such as FirstLast@amazon.com LastF@amazon.com. Looking for more contact data? Unlock accurate emails and phone numbers from millions of profiles verified in real-time.\"}]"
      ]
     },
     "execution_count": 100,
     "metadata": {},
     "output_type": "execute_result"
    }
   ],
   "source": [
    "fetch_duckduckgo_results('email format for amazon', num_results=5)"
   ]
  },
  {
   "cell_type": "code",
   "execution_count": 24,
   "metadata": {},
   "outputs": [
    {
     "data": {
      "text/plain": [
       "[{'title': 'en.wikipedia.org · wiki · 10th_Special_Forces_Group10th Special Forces Group (United States) - Wikipedia',\n",
       "  'link': 'https://en.wikipedia.org/wiki/10th_Special_Forces_Group_(United_States)',\n",
       "  'snippet': ' The 10th Special Forces Group (Airborne) (10th SFG (A), or 10th Group) is an active duty United States Army Special Forces (SF) Group. 10th Group is designed to deploy and execute nine doctrinal missions: unconventional warfare (UW), foreign internal defense (FID), direct action (DA), counterinsurgency, special reconnaissance, counterterrorism ... '},\n",
       " {'title': 'mybaseguide.com · 10th-special-forces-group10th Special Forces Group - My Base Guide',\n",
       "  'link': 'https://mybaseguide.com/10th-special-forces-group',\n",
       "  'snippet': ' The 10th SFG(A) is assigned to the U.S. Army’s Special Forces Command in Fort Bragg, N.C., but headquartered at Fort Carson. The approximate 2,000 Soldiers assigned to the 10th SFG(A) train for and conduct combat, unconventional warfare, special reconnaissance and foreign internal defense missions. '},\n",
       " {'title': \"www.soc.mil · USASFC · Groups1st Battalion Newcomers' page - SOC\",\n",
       "  'link': 'https://www.soc.mil/USASFC/Groups/10th/1stBNnewcomers.html',\n",
       "  'snippet': ' The 1st Battalion, 10th Special Forces Group (Airborne) Battalion Commander, Command Sergeant Major, and Senior Warrant Officer would like to extend a warm welcome and congratulate you on your assignment to the 1-10th SFG(A) at Panzer Kaserne, Germany. '},\n",
       " {'title': 'www.govserv.org · US · Fort-Carson10th Special Forces Group - Airborne, 7400 Bad Toelz Road ...',\n",
       "  'link': 'https://www.govserv.org/US/Fort-Carson/679921425539407/10th-Special-Forces-Group---Airborne',\n",
       "  'snippet': ' Be the first to know and let us send you an email when 10th Special Forces Group - Airborne posts news and promotions. Your email address will not be used for any other purpose, and you can unsubscribe at any time. '},\n",
       " {'title': 'www.facebook.com · 10thSFG · about10th Special Forces Group - Airborne - Facebook',\n",
       "  'link': 'https://www.facebook.com/10thSFG/about/',\n",
       "  'snippet': \" 10th Special Forces Group - Airborne, Fort Carson, Colorado. 42,450 likes · 4,053 talking about this · 262 were here. The 10th Special Forces Group (Airborne) is the Army's Original Special Forces... \"}]"
      ]
     },
     "execution_count": 24,
     "metadata": {},
     "output_type": "execute_result"
    }
   ],
   "source": [
    "fetch_yahoo_results('what is the email format for 10th sfg', num_results=5)"
   ]
  },
  {
   "cell_type": "code",
   "execution_count": 22,
   "metadata": {},
   "outputs": [
    {
     "data": {
      "text/plain": [
       "'email format for 314e corporation'"
      ]
     },
     "execution_count": 22,
     "metadata": {},
     "output_type": "execute_result"
    }
   ],
   "source": [
    "query"
   ]
  },
  {
   "cell_type": "code",
   "execution_count": 23,
   "metadata": {},
   "outputs": [
    {
     "data": {
      "text/plain": [
       "[{'title': 'NA', 'link': 'NA', 'snippet': 'NA'}]"
      ]
     },
     "execution_count": 23,
     "metadata": {},
     "output_type": "execute_result"
    }
   ],
   "source": [
    "fetch_bing_results(query, num_results=5)"
   ]
  },
  {
   "cell_type": "code",
   "execution_count": 69,
   "metadata": {},
   "outputs": [],
   "source": [
    "import pandas as pd\n",
    "email_data = pd.read_csv(r\"/Users/sumanverma/Documents/Work/Email_tool/email_creator_app/automatic_email_format/multiengine.csv\")"
   ]
  },
  {
   "cell_type": "code",
   "execution_count": 70,
   "metadata": {},
   "outputs": [
    {
     "data": {
      "text/html": [
       "<div>\n",
       "<style scoped>\n",
       "    .dataframe tbody tr th:only-of-type {\n",
       "        vertical-align: middle;\n",
       "    }\n",
       "\n",
       "    .dataframe tbody tr th {\n",
       "        vertical-align: top;\n",
       "    }\n",
       "\n",
       "    .dataframe thead th {\n",
       "        text-align: right;\n",
       "    }\n",
       "</style>\n",
       "<table border=\"1\" class=\"dataframe\">\n",
       "  <thead>\n",
       "    <tr style=\"text-align: right;\">\n",
       "      <th></th>\n",
       "      <th>Unnamed: 0</th>\n",
       "      <th>query</th>\n",
       "      <th>engine</th>\n",
       "      <th>link</th>\n",
       "      <th>title</th>\n",
       "      <th>snippet</th>\n",
       "    </tr>\n",
       "  </thead>\n",
       "  <tbody>\n",
       "    <tr>\n",
       "      <th>0</th>\n",
       "      <td>0</td>\n",
       "      <td>email format for 10th sfg</td>\n",
       "      <td>DuckDuckGo</td>\n",
       "      <td>https://www.bing.com/aclick?ld=e8z86q2_mPdTBcU...</td>\n",
       "      <td>Form 10g Form - Print or Fill Out Now - signno...</td>\n",
       "      <td>Register and Subscribe Now to work on India Gr...</td>\n",
       "    </tr>\n",
       "  </tbody>\n",
       "</table>\n",
       "</div>"
      ],
      "text/plain": [
       "   Unnamed: 0                      query      engine  \\\n",
       "0           0  email format for 10th sfg  DuckDuckGo   \n",
       "\n",
       "                                                link  \\\n",
       "0  https://www.bing.com/aclick?ld=e8z86q2_mPdTBcU...   \n",
       "\n",
       "                                               title  \\\n",
       "0  Form 10g Form - Print or Fill Out Now - signno...   \n",
       "\n",
       "                                             snippet  \n",
       "0  Register and Subscribe Now to work on India Gr...  "
      ]
     },
     "execution_count": 70,
     "metadata": {},
     "output_type": "execute_result"
    }
   ],
   "source": [
    "email_data.head(1)"
   ]
  },
  {
   "cell_type": "code",
   "execution_count": 21,
   "metadata": {},
   "outputs": [
    {
     "data": {
      "text/plain": [
       "(1485, 6)"
      ]
     },
     "execution_count": 21,
     "metadata": {},
     "output_type": "execute_result"
    }
   ],
   "source": []
  },
  {
   "cell_type": "code",
   "execution_count": 71,
   "metadata": {},
   "outputs": [
    {
     "name": "stdout",
     "output_type": "stream",
     "text": [
      "   Unnamed: 0                      query      engine  \\\n",
      "0           0  email format for 10th sfg  DuckDuckGo   \n",
      "1           1  email format for 10th sfg  DuckDuckGo   \n",
      "\n",
      "                                                link  \\\n",
      "0  https://www.bing.com/aclick?ld=e8z86q2_mPdTBcU...   \n",
      "1  https://www.bing.com/aclick?ld=e8Eal9Y5T_jXm_5...   \n",
      "\n",
      "                                               title  \\\n",
      "0  Form 10g Form - Print or Fill Out Now - signno...   \n",
      "1  Form 10g Download - Print or Fill Out Now - us...   \n",
      "\n",
      "                                             snippet Email Pattern  \\\n",
      "0  Register and Subscribe Now to work on India Gr...       Unknown   \n",
      "1  Register and Subscribe Now to work on India Gr...       Unknown   \n",
      "\n",
      "      Email Example          Accuracy  \n",
      "0  No example found  No accuracy data  \n",
      "1  No example found  No accuracy data  \n",
      "Email patterns and examples saved to outputss.csv.\n"
     ]
    }
   ],
   "source": [
    "import pandas as pd\n",
    "import re\n",
    "\n",
    "# Load the CSV file (replace 'input.csv' with your file name)\n",
    "input_file = 'input.csv'\n",
    "output_file = 'outputss.csv'\n",
    "\n",
    "# Load data into a DataFrame\n",
    "df = email_data\n",
    "\n",
    "# Column containing email patterns/snippets\n",
    "email_column = 'snippet'\n",
    "\n",
    "# Define a function to extract email patterns and examples\n",
    "def extract_email_pattern(text):\n",
    "    if pd.isnull(text):  # Check for NaN or None\n",
    "        return \"No data\"\n",
    "    text = str(text)  # Ensure the input is a string\n",
    "    patterns = [\n",
    "        (r\"[fF]irst[_]?([iI]nitial|[1] [lL]etter)?[+_]?[lL]ast\", \"[first_initial][last]\"),\n",
    "        (r\"[lL]ast[_]?([fF]irst[_]?initial|[fF]irst[_]?[iI]nitial)?\", \"[last][first_initial]\"),\n",
    "        (r\"[fF]irst\\.?[lL]ast\", \"[first].[last]\"),\n",
    "        (r\"[fF]irst[_]?[lL]ast\", \"[first_last]\"),\n",
    "        (r\"[fF]irst\", \"[first]\"),\n",
    "        (r\"[fF]irst[1]?[ \\.]?[lL]ast\", \"[first].[last]\"),\n",
    "    ]\n",
    "    for regex, pattern in patterns:\n",
    "        if re.search(regex, text):\n",
    "            return pattern\n",
    "    return \"Unknown\"\n",
    "\n",
    "def extract_email_example(text):\n",
    "    if pd.isnull(text):  # Check for NaN or None\n",
    "        return \"No example found\"\n",
    "    text = str(text)  # Ensure the input is a string\n",
    "    email_match = re.search(r\"[a-zA-Z0-9._%+-]+@[a-zA-Z0-9.-]+\\.[a-zA-Z]{2,}\", text)\n",
    "    if email_match:\n",
    "        return email_match.group(0)\n",
    "    return \"No example found\"\n",
    "def extract_accuracy(text):\n",
    "    if pd.isnull(text):  # Check for NaN or None\n",
    "        return \"No accuracy data\"\n",
    "    text = str(text)  # Ensure the input is a string\n",
    "    accuracy_match = re.search(r\"(\\d+\\.?\\d*)%\", text)  # Match numbers followed by '%'\n",
    "    if accuracy_match:\n",
    "        return accuracy_match.group(1) + \"%\"  # Return the matched accuracy value with '%'\n",
    "    return \"No accuracy data\"\n",
    "\n",
    "# Apply the functions to extract patterns and examples\n",
    "df['Email Pattern'] = df[email_column].apply(extract_email_pattern)\n",
    "df['Email Example'] = df[email_column].apply(extract_email_example)\n",
    "df['Accuracy'] = df[email_column].apply(extract_accuracy)\n",
    "\n",
    "# Function to extract website name from URL\n",
    "def extract_source(url):\n",
    "    if pd.isnull(url):  # Handle NaN or None\n",
    "        return \"No source\"\n",
    "    match = re.search(r\"https?://(?:www\\.)?([\\w-]+)\\.\", url)\n",
    "    if match:\n",
    "        return match.group(1)  # Extract the domain name\n",
    "    return \"Unknown source\"\n",
    "print (df.head(2))\n",
    "# Apply the function to the URL column\n",
    "df['Source'] = df['link'].apply(extract_source)\n",
    "\n",
    "df = df[[\"query\",\"engine\", 'Source', 'Email Pattern', 'snippet', 'Email Example', 'Accuracy']]\n",
    "# Save the updated DataFrame to a new CSV file\n",
    "\n",
    "\n",
    "df.to_csv(output_file, index=False)\n",
    "\n",
    "print(f\"Email patterns and examples saved to {output_file}.\")\n"
   ]
  },
  {
   "cell_type": "code",
   "execution_count": 19,
   "metadata": {},
   "outputs": [
    {
     "name": "stderr",
     "output_type": "stream",
     "text": [
      "/var/folders/l7/w11j0jr94cnd0x_j3kkydr240000gn/T/ipykernel_3785/1482923912.py:2: SettingWithCopyWarning: \n",
      "A value is trying to be set on a copy of a slice from a DataFrame.\n",
      "Try using .loc[row_indexer,col_indexer] = value instead\n",
      "\n",
      "See the caveats in the documentation: https://pandas.pydata.org/pandas-docs/stable/user_guide/indexing.html#returning-a-view-versus-a-copy\n",
      "  df['accuracy_numeric'] = pd.to_numeric(df['Accuracy'], errors='coerce')\n",
      "/var/folders/l7/w11j0jr94cnd0x_j3kkydr240000gn/T/ipykernel_3785/1482923912.py:4: SettingWithCopyWarning: \n",
      "A value is trying to be set on a copy of a slice from a DataFrame\n",
      "\n",
      "See the caveats in the documentation: https://pandas.pydata.org/pandas-docs/stable/user_guide/indexing.html#returning-a-view-versus-a-copy\n",
      "  df['accuracy_numeric'].fillna(-1, inplace=True)\n"
     ]
    }
   ],
   "source": [
    "# Convert accuracy to numeric for comparison\n",
    "df['accuracy_numeric'] = pd.to_numeric(df['Accuracy'], errors='coerce')\n",
    "# Replace NaN values in 'accuracy_numeric' with a very low number (to avoid interfering with selection)\n",
    "df['accuracy_numeric'].fillna(-1, inplace=True)\n",
    "# Select highest accuracy row for each company\n",
    "highest_accuracy_df = df.loc[df.groupby('query')['accuracy_numeric'].idxmax()]\n",
    "\n",
    "# Drop the temporary accuracy_numeric column\n",
    "highest_accuracy_df = highest_accuracy_df.drop(columns=['accuracy_numeric'])\n",
    "\n",
    "# Display the result\n",
    "highest_accuracy_df.to_csv(\"output_file.csv\", index=False)\n"
   ]
  },
  {
   "cell_type": "code",
   "execution_count": 36,
   "metadata": {},
   "outputs": [],
   "source": [
    "email_data['Company'] = email_data['query'].str.extract(r'email format for (.+)')"
   ]
  },
  {
   "cell_type": "code",
   "execution_count": 37,
   "metadata": {},
   "outputs": [],
   "source": [
    "email_data['URL'] = email_data['link'].apply(extract_source)\n",
    "email_data = email_data[['Company', 'engine', 'title', 'snippet', 'URL']]\n",
    "email_data.to_csv(\"FinalOutput.csv\")"
   ]
  },
  {
   "cell_type": "code",
   "execution_count": 25,
   "metadata": {},
   "outputs": [],
   "source": [
    "from web_email_scrapper import scrape_google_search_full_text"
   ]
  },
  {
   "cell_type": "code",
   "execution_count": 26,
   "metadata": {},
   "outputs": [
    {
     "data": {
      "text/plain": [
       "[]"
      ]
     },
     "execution_count": 26,
     "metadata": {},
     "output_type": "execute_result"
    }
   ],
   "source": [
    "scrape_google_search_full_text(\"what is python\")"
   ]
  },
  {
   "cell_type": "code",
   "execution_count": null,
   "metadata": {},
   "outputs": [],
   "source": []
  }
 ],
 "metadata": {
  "kernelspec": {
   "display_name": "Python 3",
   "language": "python",
   "name": "python3"
  },
  "language_info": {
   "codemirror_mode": {
    "name": "ipython",
    "version": 3
   },
   "file_extension": ".py",
   "mimetype": "text/x-python",
   "name": "python",
   "nbconvert_exporter": "python",
   "pygments_lexer": "ipython3",
   "version": "3.9.6"
  }
 },
 "nbformat": 4,
 "nbformat_minor": 2
}
