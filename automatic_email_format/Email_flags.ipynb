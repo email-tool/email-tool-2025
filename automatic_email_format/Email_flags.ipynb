{
 "cells": [
  {
   "cell_type": "markdown",
   "metadata": {},
   "source": [
    "top 5 companies \n",
    "old data\n",
    "5000\n",
    "3000 "
   ]
  },
  {
   "cell_type": "code",
   "execution_count": 1,
   "metadata": {},
   "outputs": [],
   "source": [
    "import pandas as pd\n",
    "from web_email_scrapper_multiEngine import get_email_from_snippet, fetch_yahoo_results, fetch_bing_results\n",
    "import time\n",
    "from datetime import datetime, timedelta\n",
    "import math\n",
    "import random"
   ]
  },
  {
   "cell_type": "code",
   "execution_count": 1,
   "metadata": {},
   "outputs": [
    {
     "data": {
      "text/plain": [
       "'060 technology solutions'"
      ]
     },
     "execution_count": 1,
     "metadata": {},
     "output_type": "execute_result"
    }
   ],
   "source": [
    "import pandas as pd\n",
    "import os\n",
    "import re\n",
    "excel_data = pd.ExcelFile(r'/Users/sumanverma/Documents/Work/Email_tool/email_creator_app/automatic_email_format/tool-test-data-10Feb.xlsx')\n",
    "sheets = excel_data.sheet_names[:5]  # Get the first 5 sheets\n",
    "data = pd.concat([excel_data.parse(sheet) for sheet in sheets], ignore_index=True) \n",
    "data['Company'][0]"
   ]
  },
  {
   "cell_type": "code",
   "execution_count": 2,
   "metadata": {},
   "outputs": [
    {
     "name": "stdout",
     "output_type": "stream",
     "text": [
      "   Unnamed: 0                                company  \\\n",
      "0           0  what is  valeo behavioral health care   \n",
      "1           1  what is  valeo behavioral health care   \n",
      "\n",
      "                                             Website                   Email  \\\n",
      "0                                     wwwneverbounce  JSmith@valeotopeka.org   \n",
      "1  leadiqcom/c/valeo-behavioral-health-care/5a1d8...   FLast@valeotopeka.org   \n",
      "\n",
      "   Engine Accuracy                                            Snippet  \\\n",
      "0  Google  Unknown   For 390 Valeo Behavioral Health Care Employee...   \n",
      "1  Google  Unknown   Valeo Behavioral Health Care's email format t...   \n",
      "\n",
      "                        email pattern  \n",
      "0  FirstName1LastName@valeotopeka.org  \n",
      "1           No matching pattern found  \n",
      "5542\n",
      "Updated CSV saved to: /Users/sumanverma/Documents/Work/Email_tool/email_creator_app/automatic_email_format/March2dðutputdFlags.csv\n"
     ]
    }
   ],
   "source": [
    "\n",
    "\n",
    "\n",
    "import pandas as pd\n",
    "from get_email_flags import get_flags\n",
    "\n",
    "\n",
    "# Path to your CSV file\n",
    "csv_file1 = r\"/Users/sumanverma/Documents/Work/Email_tool/email_creator_app/automatic_email_format/MorningFile.csv\"\n",
    "\n",
    "csv_file = r'/Users/sumanverma/Documents/Work/Email_tool/email_creator_app/automatic_email_format/BBatch 0_2590_35_2025-03-01.csv'\n",
    "\n",
    "# Load CSV\n",
    "df = pd.read_csv(csv_file1)\n",
    "\n",
    "# Load CSV\n",
    "df1 = pd.read_csv(csv_file)\n",
    "\n",
    "concatenated_df = pd.concat([df, df1], axis=0)\n",
    "\n",
    "print (df.head(2))\n",
    "# Show the result\n",
    "print(len(concatenated_df['company'].unique()))\n",
    "\n",
    "\n",
    "file_name = \"/Users/sumanverma/Documents/Work/Email_tool/email_creator_app/automatic_email_format/March2dðutputdFlags.csv\"\n",
    "\n",
    "\n",
    "get_flags(concatenated_df,file_name)"
   ]
  },
  {
   "cell_type": "code",
   "execution_count": null,
   "metadata": {},
   "outputs": [],
   "source": []
  }
 ],
 "metadata": {
  "kernelspec": {
   "display_name": "Python 3",
   "language": "python",
   "name": "python3"
  },
  "language_info": {
   "codemirror_mode": {
    "name": "ipython",
    "version": 3
   },
   "file_extension": ".py",
   "mimetype": "text/x-python",
   "name": "python",
   "nbconvert_exporter": "python",
   "pygments_lexer": "ipython3",
   "version": "3.9.6"
  }
 },
 "nbformat": 4,
 "nbformat_minor": 2
}
