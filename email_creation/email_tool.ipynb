{
 "cells": [
  {
   "cell_type": "code",
   "execution_count": 1,
   "metadata": {},
   "outputs": [],
   "source": [
    "from create_emails import email_creator_app\n",
    "import pickle\n",
    "# Load the pickle file\n",
    "with open('/Users/sumanverma/Documents/Work/Email_tool/email_patterns.pkl', 'rb') as f:\n",
    "    email_patterns = pickle.load(f)\n"
   ]
  },
  {
   "cell_type": "code",
   "execution_count": 2,
   "metadata": {},
   "outputs": [],
   "source": [
    "file = r'/Users/sumanverma/Documents/Work/Email_tool/email_files/Colorado Springs, CO Seggrigation _.xlsx'\n",
    "\n"
   ]
  },
  {
   "cell_type": "code",
   "execution_count": 3,
   "metadata": {},
   "outputs": [
    {
     "name": "stdout",
     "output_type": "stream",
     "text": [
      "Processed DataFrame:\n"
     ]
    },
    {
     "data": {
      "text/html": [
       "<div>\n",
       "<style scoped>\n",
       "    .dataframe tbody tr th:only-of-type {\n",
       "        vertical-align: middle;\n",
       "    }\n",
       "\n",
       "    .dataframe tbody tr th {\n",
       "        vertical-align: top;\n",
       "    }\n",
       "\n",
       "    .dataframe thead th {\n",
       "        text-align: right;\n",
       "    }\n",
       "</style>\n",
       "<table border=\"1\" class=\"dataframe\">\n",
       "  <thead>\n",
       "    <tr style=\"text-align: right;\">\n",
       "      <th></th>\n",
       "      <th>Srl No</th>\n",
       "      <th>Company</th>\n",
       "      <th>Contact Name</th>\n",
       "      <th>First Name</th>\n",
       "      <th>Last Name</th>\n",
       "      <th>Designation</th>\n",
       "      <th>Location</th>\n",
       "      <th>Industry</th>\n",
       "      <th>Mailer_Status</th>\n",
       "      <th>Email</th>\n",
       "    </tr>\n",
       "  </thead>\n",
       "  <tbody>\n",
       "    <tr>\n",
       "      <th>0</th>\n",
       "      <td>NA</td>\n",
       "      <td>10th SFG</td>\n",
       "      <td>Christopher Root</td>\n",
       "      <td>Christopher</td>\n",
       "      <td>Root</td>\n",
       "      <td>Detachment Engineer</td>\n",
       "      <td>Colorado Springs, CO</td>\n",
       "      <td>Military</td>\n",
       "      <td>UN</td>\n",
       "      <td>RootC@soc.mil</td>\n",
       "    </tr>\n",
       "    <tr>\n",
       "      <th>1</th>\n",
       "      <td>NA</td>\n",
       "      <td>10th SFG</td>\n",
       "      <td>Eric Westpfahl</td>\n",
       "      <td>Eric</td>\n",
       "      <td>Westpfahl</td>\n",
       "      <td>S6 NCOIC</td>\n",
       "      <td>Colorado Springs, CO</td>\n",
       "      <td>Military</td>\n",
       "      <td>UN</td>\n",
       "      <td>WestpfahlE@soc.mil</td>\n",
       "    </tr>\n",
       "    <tr>\n",
       "      <th>2</th>\n",
       "      <td>NA</td>\n",
       "      <td>10th SFG</td>\n",
       "      <td>Luis Lopez</td>\n",
       "      <td>Luis</td>\n",
       "      <td>Lopez</td>\n",
       "      <td>Tactical Local Area Network Operator</td>\n",
       "      <td>Colorado Springs, CO</td>\n",
       "      <td>Military</td>\n",
       "      <td>UN</td>\n",
       "      <td>LopezL@soc.mil</td>\n",
       "    </tr>\n",
       "    <tr>\n",
       "      <th>3</th>\n",
       "      <td>NA</td>\n",
       "      <td>10th SFGA</td>\n",
       "      <td>Bryan Williams</td>\n",
       "      <td>Bryan</td>\n",
       "      <td>Williams</td>\n",
       "      <td>Property Book Officer</td>\n",
       "      <td>Colorado Springs, CO</td>\n",
       "      <td>Logistics and Supply Chain</td>\n",
       "      <td>UN</td>\n",
       "      <td>WilliamsB@soc.mil</td>\n",
       "    </tr>\n",
       "  </tbody>\n",
       "</table>\n",
       "</div>"
      ],
      "text/plain": [
       "  Srl No    Company      Contact Name   First Name  Last Name  \\\n",
       "0     NA   10th SFG  Christopher Root  Christopher       Root   \n",
       "1     NA   10th SFG    Eric Westpfahl         Eric  Westpfahl   \n",
       "2     NA   10th SFG        Luis Lopez         Luis      Lopez   \n",
       "3     NA  10th SFGA    Bryan Williams        Bryan   Williams   \n",
       "\n",
       "                            Designation              Location  \\\n",
       "0                   Detachment Engineer  Colorado Springs, CO   \n",
       "1                              S6 NCOIC  Colorado Springs, CO   \n",
       "2  Tactical Local Area Network Operator  Colorado Springs, CO   \n",
       "3                 Property Book Officer  Colorado Springs, CO   \n",
       "\n",
       "                     Industry Mailer_Status               Email  \n",
       "0                    Military            UN       RootC@soc.mil  \n",
       "1                    Military            UN  WestpfahlE@soc.mil  \n",
       "2                    Military            UN      LopezL@soc.mil  \n",
       "3  Logistics and Supply Chain            UN   WilliamsB@soc.mil  "
      ]
     },
     "execution_count": 3,
     "metadata": {},
     "output_type": "execute_result"
    }
   ],
   "source": [
    "email_creator_app(file,email_patterns)"
   ]
  },
  {
   "cell_type": "markdown",
   "metadata": {},
   "source": []
  },
  {
   "cell_type": "code",
   "execution_count": 9,
   "metadata": {},
   "outputs": [
    {
     "name": "stdout",
     "output_type": "stream",
     "text": [
      "/Users/sumanverma/Documents/Work/Email_tool/email_creator_app/email_creation/email_creator_app/files/main_database/static/uploads\n"
     ]
    },
    {
     "ename": "AttributeError",
     "evalue": "'str' object has no attribute 'save'",
     "output_type": "error",
     "traceback": [
      "\u001b[0;31m---------------------------------------------------------------------------\u001b[0m",
      "\u001b[0;31mAttributeError\u001b[0m                            Traceback (most recent call last)",
      "Cell \u001b[0;32mIn[9], line 13\u001b[0m\n\u001b[1;32m     11\u001b[0m \u001b[38;5;66;03m# Save the file in the uploads folder\u001b[39;00m\n\u001b[1;32m     12\u001b[0m file_path \u001b[38;5;241m=\u001b[39m join(UPLOADS_FOLDER, o)\n\u001b[0;32m---> 13\u001b[0m \u001b[43mfile\u001b[49m\u001b[38;5;241;43m.\u001b[39;49m\u001b[43msave\u001b[49m(file_path)\n",
      "\u001b[0;31mAttributeError\u001b[0m: 'str' object has no attribute 'save'"
     ]
    }
   ],
   "source": [
    "from flask import Flask, request, jsonify\n",
    "from os.path import join, dirname, realpath\n",
    "import os\n",
    "\n",
    "o= r'email_creator_app/files/main_database/email_patterns.pkl'\n",
    "# Generate the absolute path for the uploads folder\n",
    "UPLOADS_FOLDER = join(dirname(realpath(o)), 'static/uploads')\n",
    "print (UPLOADS_FOLDER)\n",
    "os.makedirs(UPLOADS_FOLDER, exist_ok=True)  # Ensure the folder exists\n",
    "\n",
    "    # Save the file in the uploads folder\n",
    "    file_path = join(UPLOADS_FOLDER, file.filename)\n",
    "    file.save(file_path)"
   ]
  },
  {
   "cell_type": "code",
   "execution_count": 11,
   "metadata": {},
   "outputs": [
    {
     "name": "stdout",
     "output_type": "stream",
     "text": [
      "Fresno, CA-test\n"
     ]
    }
   ],
   "source": [
    "import os\n",
    "\n",
    "\n",
    "file_path = \"database_source_files/Fresno, CA-test.xlsx\"\n",
    "\n",
    "# Get file name without extension\n",
    "file_name_no_ext = os.path.splitext(os.path.basename(file_path))[0]\n",
    "\n",
    "print(file_name_no_ext)  # Output: Fresno, CA-test"
   ]
  }
 ],
 "metadata": {
  "kernelspec": {
   "display_name": "Python 3",
   "language": "python",
   "name": "python3"
  },
  "language_info": {
   "codemirror_mode": {
    "name": "ipython",
    "version": 3
   },
   "file_extension": ".py",
   "mimetype": "text/x-python",
   "name": "python",
   "nbconvert_exporter": "python",
   "pygments_lexer": "ipython3",
   "version": "3.9.6"
  }
 },
 "nbformat": 4,
 "nbformat_minor": 2
}
